{
 "cells": [
  {
   "cell_type": "code",
   "execution_count": 1,
   "id": "bf082dc1",
   "metadata": {},
   "outputs": [],
   "source": [
    "import os \n",
    "os.chdir(\"..\")"
   ]
  },
  {
   "cell_type": "code",
   "execution_count": 7,
   "id": "53b02270",
   "metadata": {},
   "outputs": [],
   "source": [
    "import os\n",
    "from typing import List, Any, Optional\n",
    "\n",
    "from langchain_ibm.chat_models import ChatWatsonx\n",
    "from ibm_watsonx_ai.foundation_models.schema import TextChatParameters\n",
    "\n",
    "parameters = TextChatParameters(\n",
    "    max_tokens=100,\n",
    "    temperature=0.5,\n",
    "    top_p=1,\n",
    "    )\n",
    "\n",
    "API_KEY = \"T62Tr6RzKNJn6cPeNvzAWqAILIHkmOLQDb8fU_s8lTxh\"\n",
    "WX_PROJECT_ID=\"2453fff5-84b8-44b3-a891-baac6b76f5bc\"\n",
    "\n",
    "\n",
    "watsonx_llm = ChatWatsonx(\n",
    "    model_id=\"meta-llama/llama-3-2-90b-vision-instruct\",\n",
    "    url=\"https://au-syd.ml.cloud.ibm.com\",\n",
    "    apikey=API_KEY,\n",
    "    project_id=WX_PROJECT_ID,\n",
    "    params=parameters,\n",
    ")\n",
    "\n"
   ]
  },
  {
   "cell_type": "code",
   "execution_count": null,
   "id": "f32af1f9",
   "metadata": {},
   "outputs": [],
   "source": []
  },
  {
   "cell_type": "code",
   "execution_count": null,
   "id": "ad74a4b5",
   "metadata": {},
   "outputs": [],
   "source": [
    "['ibm/granite-13b-instruct-v2', 'ibm/granite-3-2b-instruct', 'ibm/granite-3-8b-instruct', 'ibm/granite-8b-code-instruct', \n",
    " 'ibm/granite-guardian-3-2b', 'ibm/granite-guardian-3-8b', 'meta-llama/llama-3-2-11b-vision-instruct', \n",
    " 'meta-llama/llama-3-2-90b-vision-instruct', 'meta-llama/llama-guard-3-11b-vision', 'mistralai/mistral-large']"
   ]
  },
  {
   "cell_type": "code",
   "execution_count": null,
   "id": "faad9947",
   "metadata": {},
   "outputs": [],
   "source": []
  }
 ],
 "metadata": {
  "kernelspec": {
   "display_name": "Python 3",
   "language": "python",
   "name": "python3"
  },
  "language_info": {
   "codemirror_mode": {
    "name": "ipython",
    "version": 3
   },
   "file_extension": ".py",
   "mimetype": "text/x-python",
   "name": "python",
   "nbconvert_exporter": "python",
   "pygments_lexer": "ipython3",
   "version": "3.11.13"
  }
 },
 "nbformat": 4,
 "nbformat_minor": 5
}
