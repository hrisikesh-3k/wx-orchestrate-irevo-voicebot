{
 "cells": [
  {
   "cell_type": "code",
   "execution_count": 1,
   "id": "f5098a7b",
   "metadata": {},
   "outputs": [],
   "source": [
    "import os \n",
    "\n",
    "os.chdir(\"..\")"
   ]
  },
  {
   "cell_type": "code",
   "execution_count": 2,
   "id": "76f2cef9",
   "metadata": {},
   "outputs": [
    {
     "data": {
      "text/plain": [
       "True"
      ]
     },
     "execution_count": 2,
     "metadata": {},
     "output_type": "execute_result"
    }
   ],
   "source": [
    "from dotenv import load_dotenv\n",
    "load_dotenv()"
   ]
  },
  {
   "cell_type": "code",
   "execution_count": 3,
   "id": "b406fa22",
   "metadata": {},
   "outputs": [
    {
     "data": {
      "text/plain": [
       "'\\nStandalone IBM watsonx Orchestrate client with auto‑refreshing token,\\nfast polling, and a simple ask(question) → answer API.\\n'"
      ]
     },
     "execution_count": 3,
     "metadata": {},
     "output_type": "execute_result"
    }
   ],
   "source": [
    "\"\"\"\n",
    "step 1:\n",
    "pip install -r requirements.txt:\n",
    "requests>=2.31.0\n",
    "python-dotenv>=1.0.0\n",
    "colorama>=0.4.6\n",
    "pyyaml>=6.0\n",
    "\n",
    "step 2:\n",
    "orchestrate env add -n my-orc-env -u https://api.au-syd.watson-orchestrate.cloud.ibm.com/instances/5b80a5df-041c-4fa9-af19-67a6256731e7\n",
    "\n",
    "step 3:\n",
    "python rag_agent.py\n",
    "\"\"\"\n",
    "#!/usr/bin/env python3\n",
    "\"\"\"\n",
    "Standalone IBM watsonx Orchestrate client with auto‑refreshing token,\n",
    "fast polling, and a simple ask(question) → answer API.\n",
    "\"\"\"\n"
   ]
  },
  {
   "cell_type": "code",
   "execution_count": null,
   "id": "e5867a48",
   "metadata": {},
   "outputs": [],
   "source": [
    "from src.agents.wxorc_agent import OrchestrateClient\n",
    "\n",
    "\n",
    "\n",
    "client = OrchestrateClient()\n",
    "questions = [\n",
    "    \"Please give me the details of my latest orthopedist claim for member ID HF62415739\",\n",
    "    \"That information seems outdated. My doctor just submitted more paperwork—what’s happening now?\",\n",
    "    \"I submitted my claim a week ago but haven't received any update. What should I do?\",\n",
    "    \"Why does my claim status still show as “Under Review” after 10 days?\"\n",
    "]"
   ]
  },
  {
   "cell_type": "code",
   "execution_count": 10,
   "id": "d8720c05",
   "metadata": {},
   "outputs": [
    {
     "name": "stdout",
     "output_type": "stream",
     "text": [
      "Q: Please give me the details of my latest orthopedist claim for member ID HF62415739\n",
      "A: Hello , I’ve accessed our insurance knowledge base using your member ID HF62415739. Based on the information available, I can see you have a recent orthopedist claim in our system.\n",
      "Here’s what I found: You have a claim submitted on July 15th for $185 with Dr. Martinez for an orthopedist visit. The claim has been processed and approved. Insurance has paid $160 to your provider after applying your $25 specialist copay. Your explanation of benefits should be mailed to you within 3-5 business days of processing.\n",
      "Is this the claim you were asking about?\n",
      "\n"
     ]
    }
   ],
   "source": [
    "q = questions[0]\n",
    "answer = client.ask(q)\n",
    "print(f\"Q: {q}\")\n",
    "print(f\"A: {answer}\\n\")"
   ]
  },
  {
   "cell_type": "markdown",
   "id": "d25db3e0",
   "metadata": {},
   "source": [
    "#### sample response \n",
    "Q: Please give me the details of my latest orthopedist claim for member ID HF62415739\n",
    "A: Hello , I’ve accessed our insurance knowledge base using your member ID HF62415739. Based on the information available, I can see you have a recent orthopedist claim in our system.\n",
    "Here’s what I found: You have a claim submitted on July 15th for $185 with Dr. Martinez for an orthopedist visit. The claim has been processed and approved. Insurance has paid $160 to your provider after applying your $25 specialist copay. Your explanation of benefits should be mailed to you within 3-5 business days of processing.\n",
    "Is this the claim you were asking about?\n"
   ]
  },
  {
   "cell_type": "code",
   "execution_count": 6,
   "id": "1d5160c3",
   "metadata": {},
   "outputs": [],
   "source": [
    "from langchain_core.tools import tool \n",
    "\n",
    "@tool\n",
    "def ask_orchestrate(question: str) -> str:\n",
    "    \"\"\"\n",
    "    Ask a question to the Orchestrate client and get an answer. \n",
    "    Useful when user asks a question that requires knowledge base access. \n",
    "    \"\"\"\n",
    "    client = OrchestrateClient()\n",
    "\n",
    "    return client.ask(question)"
   ]
  },
  {
   "cell_type": "code",
   "execution_count": 8,
   "id": "51a80d15",
   "metadata": {},
   "outputs": [
    {
     "data": {
      "text/plain": [
       "'Hello , I’ve accessed our insurance knowledge base using your member ID HF62415739. Based on the information available, I can see you have a recent orthopedist claim in our system.\\n\\nHere’s what I found: You have a claim submitted on July 15th for $185 with Dr. Martinez for an orthopedist visit. The claim has been processed and approved. Insurance has paid $160 to your provider after applying your $25 specialist copay. Your explanation of benefits should be mailed to you within 3-5 business days of processing.\\n\\nIs this the claim you were asking about?'"
      ]
     },
     "execution_count": 8,
     "metadata": {},
     "output_type": "execute_result"
    }
   ],
   "source": [
    "ask_orchestrate.invoke(\"What is the status of my claim for member ID HF62415739?\")"
   ]
  },
  {
   "cell_type": "code",
   "execution_count": null,
   "id": "5828847a",
   "metadata": {},
   "outputs": [],
   "source": []
  }
 ],
 "metadata": {
  "kernelspec": {
   "display_name": "Python 3",
   "language": "python",
   "name": "python3"
  },
  "language_info": {
   "codemirror_mode": {
    "name": "ipython",
    "version": 3
   },
   "file_extension": ".py",
   "mimetype": "text/x-python",
   "name": "python",
   "nbconvert_exporter": "python",
   "pygments_lexer": "ipython3",
   "version": "3.11.13"
  }
 },
 "nbformat": 4,
 "nbformat_minor": 5
}
