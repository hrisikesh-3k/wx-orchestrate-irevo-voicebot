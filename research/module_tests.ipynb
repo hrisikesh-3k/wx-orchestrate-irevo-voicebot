{
 "cells": [
  {
   "cell_type": "code",
   "execution_count": 1,
   "id": "ca07fdcb-4d4e-416f-8f5e-0a4ea51213b0",
   "metadata": {},
   "outputs": [],
   "source": [
    "import os \n",
    "os.chdir(\"..\")"
   ]
  },
  {
   "cell_type": "code",
   "execution_count": 2,
   "id": "8c6f4bde-f415-44bc-8882-ac170a5a79a8",
   "metadata": {},
   "outputs": [],
   "source": [
    "from src.agents.memory import MemoryManager\n",
    "\n",
    "\n",
    "memory_manager = MemoryManager()"
   ]
  },
  {
   "cell_type": "code",
   "execution_count": 6,
   "id": "7c988850-1857-48e7-ae8d-07ac77988e4a",
   "metadata": {},
   "outputs": [
    {
     "data": {
      "text/plain": [
       "[HumanMessage(content='hey biudy', additional_kwargs={}, response_metadata={}),\n",
       " AIMessage(content='Hello! Welcome to Claim Buddy. May I please have your full name and policy number before we begin?', additional_kwargs={}, response_metadata={}),\n",
       " HumanMessage(content='fffsff', additional_kwargs={}, response_metadata={}),\n",
       " AIMessage(content=\"I didn't quite catch that. Could you please provide your full name and policy number so I can assist you further?\", additional_kwargs={}, response_metadata={})]"
      ]
     },
     "execution_count": 6,
     "metadata": {},
     "output_type": "execute_result"
    }
   ],
   "source": [
    "memory_manager.get_current_message_history()"
   ]
  },
  {
   "cell_type": "code",
   "execution_count": 1,
   "id": "408686ce-fd38-4322-a1f3-944f783721aa",
   "metadata": {},
   "outputs": [
    {
     "name": "stderr",
     "output_type": "stream",
     "text": [
      "INFO:src.agents:VoiceEscalationAgent initialized successfully\n"
     ]
    }
   ],
   "source": [
    "from src.agents import VoiceEscalationAgent\n",
    "\n",
    "agent = VoiceEscalationAgent()"
   ]
  },
  {
   "cell_type": "code",
   "execution_count": 3,
   "id": "f98072e0",
   "metadata": {},
   "outputs": [
    {
     "name": "stdout",
     "output_type": "stream",
     "text": [
      "\n",
      "\n",
      "\u001b[1m> Entering new AgentExecutor chain...\u001b[0m\n"
     ]
    },
    {
     "name": "stderr",
     "output_type": "stream",
     "text": [
      "INFO:httpx:HTTP Request: POST https://au-syd.ml.cloud.ibm.com/ml/v1/text/chat_stream?version=2025-07-09 \"HTTP/1.1 200 OK\"\n"
     ]
    },
    {
     "name": "stdout",
     "output_type": "stream",
     "text": [
      "\u001b[32;1m\u001b[1;3mHello! Welcome to Claim Buddy. May I please have your full name and policy number before we begin?\u001b[0m\n",
      "\n",
      "\u001b[1m> Finished chain.\u001b[0m\n",
      "Q: hi\n",
      "A: {'message': 'Welcome to Claim Buddy. May I please have your full name and policy number before we begin.', 'show_escalation_buttons': False, 'session_id': 'test_session'}\n",
      "\n",
      "\n",
      "\n",
      "\u001b[1m> Entering new AgentExecutor chain...\u001b[0m\n"
     ]
    },
    {
     "name": "stderr",
     "output_type": "stream",
     "text": [
      "INFO:httpx:HTTP Request: POST https://au-syd.ml.cloud.ibm.com/ml/v1/text/chat_stream?version=2025-07-09 \"HTTP/1.1 200 OK\"\n",
      "INFO:src.logger:Searching FAQ database via Watson X Orchestrate for: Hrisikesh Neogi, HF62415739, What is the status of my claim for member ID HF62415739?\n"
     ]
    },
    {
     "name": "stdout",
     "output_type": "stream",
     "text": [
      "\u001b[32;1m\u001b[1;3m\n",
      "Invoking: `search_faq_tool` with `{'query': 'Hrisikesh Neogi, HF62415739, What is the status of my claim for member ID HF62415739?'}`\n",
      "\n",
      "\n",
      "\u001b[0m"
     ]
    },
    {
     "name": "stderr",
     "output_type": "stream",
     "text": [
      "INFO:src.logger:Watson X RAG search completed: True\n"
     ]
    },
    {
     "name": "stdout",
     "output_type": "stream",
     "text": [
      "\u001b[36;1m\u001b[1;3m{'message': 'Hello Hrisikesh Neogi, I’ve accessed our insurance knowledge base using your member ID HF62415739. Based on the information available, I can see you have a recent orthopedist claim in our system.\\nHere’s what I found: You have a claim submitted on July 15th for $185 with Dr. Martinez for an orthopedist visit. The claim has been processed and approved. Insurance has paid $160 to your provider after applying your $25 specialist copay. Your explanation of benefits should be mailed to you within 3-5 business days of processing.\\nIs this the claim you were asking about?', 'show_escalation_buttons': False}\u001b[0m"
     ]
    },
    {
     "name": "stderr",
     "output_type": "stream",
     "text": [
      "INFO:httpx:HTTP Request: POST https://au-syd.ml.cloud.ibm.com/ml/v1/text/chat_stream?version=2025-07-09 \"HTTP/1.1 200 OK\"\n"
     ]
    },
    {
     "name": "stdout",
     "output_type": "stream",
     "text": [
      "\u001b[32;1m\u001b[1;3mHello Hrisikesh Neogi, I’ve accessed our insurance knowledge base using your member ID HF62415739. Based on the information available, I can see you have a recent orthopedist claim in our system.\n",
      "\n",
      "Here’s what I found: You have a claim submitted on July 15th for $185 with Dr. Martinez for an orthopedist visit. The claim has been processed and approved. Insurance has paid $160 to your provider after applying your $25 specialist copay.\u001b[0m\n",
      "\n",
      "\u001b[1m> Finished chain.\u001b[0m\n",
      "Q: Hrisikesh Neogi, HF62415739\n",
      "A: {'message': 'Hello Hrisikesh Neogi, I’ve accessed our insurance knowledge base using your member ID HF62415739. Based on the information available, I can see you have a recent orthopedist claim in our system. Here’s what I found: You have a claim submitted on July 15th for $185 with Dr. Martinez for an orthopedist visit. The claim has been processed and approved. Insurance has paid $160 to your provider after applying your $25 specialist copay.', 'show_escalation_buttons': True, 'session_id': 'test_session'}\n",
      "\n",
      "\n",
      "\n",
      "\u001b[1m> Entering new AgentExecutor chain...\u001b[0m\n"
     ]
    },
    {
     "name": "stderr",
     "output_type": "stream",
     "text": [
      "INFO:httpx:HTTP Request: POST https://au-syd.ml.cloud.ibm.com/ml/v1/text/chat_stream?version=2025-07-09 \"HTTP/1.1 200 OK\"\n"
     ]
    },
    {
     "name": "stdout",
     "output_type": "stream",
     "text": [
      "\u001b[32;1m\u001b[1;3mYou're welcome, Hrisikesh. Is there anything else I can help you with regarding your claim or policy?\u001b[0m\n",
      "\n",
      "\u001b[1m> Finished chain.\u001b[0m\n",
      "Q: thanks\n",
      "A: {'message': \"You're welcome, Hrisikesh. Is there anything else I can help you with regarding your claim or policy.\", 'show_escalation_buttons': False, 'session_id': 'test_session'}\n",
      "\n"
     ]
    }
   ],
   "source": [
    "query = \"What is the status of my claim for member ID HF62415739?\"\n",
    "\n",
    "while True:\n",
    "    query = input(\"Enter your query (or type 'exit' to quit): \")\n",
    "    if query.lower() == \"exit\":\n",
    "        break\n",
    "\n",
    "    # Call the agent's chat method with the query\n",
    "    response = agent.chat(\n",
    "    session_id=\"test_session\",\n",
    "    query= query\n",
    "    \n",
    "    )\n",
    "    print(f\"Q: {query}\")\n",
    "    print(f\"A: {response}\\n\")\n"
   ]
  },
  {
   "cell_type": "code",
   "execution_count": null,
   "id": "da841cd8",
   "metadata": {},
   "outputs": [],
   "source": [
    "INFO:src.logger:Raw agent response: {'input': 'Please give me the details of my latest orthopedist claim for member ID HF62415739', 'chat_history': [HumanMessage(content='hey', additional_kwargs={}, response_metadata={}), AIMessage(content='Hello! Welcome to Claim Buddy. May I please have your full name and policy number before we begin?', additional_kwargs={}, response_metadata={}), HumanMessage(content='Hrisikesh Neogi, HF62415739', additional_kwargs={}, response_metadata={}), AIMessage(content='Thank you, Hrisikesh. You’ve been authenticated successfully. How may I assist you today?', additional_kwargs={}, response_metadata={})], 'output': 'Hello , I’ve accessed our insurance knowledge base using your member ID HF62415739. Based on the information available, I can see you have a recent orthopedist claim in our system. Here’s what I found: You have a claim submitted on July 15th for $185 with Dr. Martinez for an orthopedist visit. The claim has been processed and approved. Insurance has paid $160 to your provider after applying your $25 specialist copay. Your explanation of benefits should be'}       \n",
    "INFO:src.logger:Agent response for session 3246f059-1333-4bb9-8804-89cc9bea4632: {'message': 'Hello , I’ve accessed our insurance knowledge base using your member ID HF62415739. Based on the information available, I can see you have a recent orthopedist claim in our system. Here’s what I found: You have a claim submitted on July 15th for $185 with Dr. Martinez for an orthopedist visit. The claim has been processed and approved. Insurance has paid $160 to your provider after applying your $25 specialist copay. Your explanation of benefits should be.', 'show_escalation_buttons': True, 'session_id': '3246f059-1333-4bb9-8804-89cc9bea4632'}"
   ]
  }
 ],
 "metadata": {
  "kernelspec": {
   "display_name": "Python 3",
   "language": "python",
   "name": "python3"
  },
  "language_info": {
   "codemirror_mode": {
    "name": "ipython",
    "version": 3
   },
   "file_extension": ".py",
   "mimetype": "text/x-python",
   "name": "python",
   "nbconvert_exporter": "python",
   "pygments_lexer": "ipython3",
   "version": "3.11.13"
  }
 },
 "nbformat": 4,
 "nbformat_minor": 5
}
