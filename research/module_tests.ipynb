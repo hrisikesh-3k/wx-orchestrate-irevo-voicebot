{
 "cells": [
  {
   "cell_type": "code",
   "execution_count": 1,
   "id": "ca07fdcb-4d4e-416f-8f5e-0a4ea51213b0",
   "metadata": {},
   "outputs": [],
   "source": [
    "import os \n",
    "os.chdir(\"..\")"
   ]
  },
  {
   "cell_type": "code",
   "execution_count": 2,
   "id": "8c6f4bde-f415-44bc-8882-ac170a5a79a8",
   "metadata": {},
   "outputs": [],
   "source": [
    "from src.agents.memory import MemoryManager\n",
    "\n",
    "\n",
    "memory_manager = MemoryManager()"
   ]
  },
  {
   "cell_type": "code",
   "execution_count": 6,
   "id": "7c988850-1857-48e7-ae8d-07ac77988e4a",
   "metadata": {},
   "outputs": [
    {
     "data": {
      "text/plain": [
       "[HumanMessage(content='hey biudy', additional_kwargs={}, response_metadata={}),\n",
       " AIMessage(content='Hello! Welcome to Claim Buddy. May I please have your full name and policy number before we begin?', additional_kwargs={}, response_metadata={}),\n",
       " HumanMessage(content='fffsff', additional_kwargs={}, response_metadata={}),\n",
       " AIMessage(content=\"I didn't quite catch that. Could you please provide your full name and policy number so I can assist you further?\", additional_kwargs={}, response_metadata={})]"
      ]
     },
     "execution_count": 6,
     "metadata": {},
     "output_type": "execute_result"
    }
   ],
   "source": [
    "memory_manager.get_current_message_history()"
   ]
  },
  {
   "cell_type": "code",
   "execution_count": 9,
   "id": "408686ce-fd38-4322-a1f3-944f783721aa",
   "metadata": {},
   "outputs": [
    {
     "ename": "NameError",
     "evalue": "name 'message_history' is not defined",
     "output_type": "error",
     "traceback": [
      "\u001b[31m---------------------------------------------------------------------------\u001b[39m",
      "\u001b[31mNameError\u001b[39m                                 Traceback (most recent call last)",
      "\u001b[36mCell\u001b[39m\u001b[36m \u001b[39m\u001b[32mIn[9]\u001b[39m\u001b[32m, line 1\u001b[39m\n\u001b[32m----> \u001b[39m\u001b[32m1\u001b[39m \u001b[43mmessage_history\u001b[49m.get_messages()\n",
      "\u001b[31mNameError\u001b[39m: name 'message_history' is not defined"
     ]
    }
   ],
   "source": [
    "message_history.get_messages()"
   ]
  },
  {
   "cell_type": "code",
   "execution_count": null,
   "id": "f98072e0",
   "metadata": {},
   "outputs": [],
   "source": []
  }
 ],
 "metadata": {
  "kernelspec": {
   "display_name": "Python 3",
   "language": "python",
   "name": "python3"
  },
  "language_info": {
   "codemirror_mode": {
    "name": "ipython",
    "version": 3
   },
   "file_extension": ".py",
   "mimetype": "text/x-python",
   "name": "python",
   "nbconvert_exporter": "python",
   "pygments_lexer": "ipython3",
   "version": "3.11.13"
  }
 },
 "nbformat": 4,
 "nbformat_minor": 5
}
