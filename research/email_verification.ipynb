{
 "cells": [
  {
   "cell_type": "code",
   "execution_count": 1,
   "metadata": {},
   "outputs": [
    {
     "data": {
      "text/plain": [
       "True"
      ]
     },
     "execution_count": 1,
     "metadata": {},
     "output_type": "execute_result"
    }
   ],
   "source": [
    "import os \n",
    "from dotenv import load_dotenv\n",
    "\n",
    "os.chdir(\"..\")\n",
    "load_dotenv()\n"
   ]
  },
  {
   "cell_type": "code",
   "execution_count": 2,
   "metadata": {},
   "outputs": [],
   "source": [
    "import random\n",
    "import string\n",
    "import smtplib\n",
    "from email.mime.text import MIMEText\n",
    "from email.mime.multipart import MIMEMultipart\n",
    "from datetime import datetime, timedelta\n",
    "from typing import Dict, Optional\n",
    "from langchain.tools import BaseTool\n",
    "\n",
    "class OTPManager:\n",
    "    def __init__(self, expiry_minutes: int = 5):\n",
    "        self.otps: Dict[str, Dict] = {}  # Store email -> {otp, expiry} mapping\n",
    "        self.expiry_minutes = expiry_minutes\n",
    "    \n",
    "    def generate_otp(self, length: int = 6) -> str:\n",
    "        \"\"\"Generate a random OTP of specified length\"\"\"\n",
    "        return ''.join(random.choices(string.digits, k=length))\n",
    "    \n",
    "    def create_otp(self, email: str) -> str:\n",
    "        \"\"\"Create and store OTP for an email\"\"\"\n",
    "        otp = self.generate_otp()\n",
    "        expiry = datetime.now() + timedelta(minutes=self.expiry_minutes)\n",
    "        self.otps[email] = {\"otp\": otp, \"expiry\": expiry}\n",
    "        return otp\n",
    "    \n",
    "    def verify_otp(self, email: str, otp: str) -> bool:\n",
    "        \"\"\"Verify if OTP is valid for the given email\"\"\"\n",
    "        if email not in self.otps:\n",
    "            return False\n",
    "        \n",
    "        stored_data = self.otps[email]\n",
    "        if datetime.now() > stored_data[\"expiry\"]:\n",
    "            del self.otps[email]\n",
    "            return False\n",
    "            \n",
    "        if stored_data[\"otp\"] == otp:\n",
    "            del self.otps[email]  # Remove OTP after successful verification\n",
    "            return True\n",
    "        return False\n",
    "\n",
    "class EmailSender:\n",
    "    def __init__(self, smtp_server: str, smtp_port: int, username: str, password: str):\n",
    "        self.smtp_server = smtp_server\n",
    "        self.smtp_port = smtp_port\n",
    "        self.username = username\n",
    "        self.password = password\n",
    "    \n",
    "    def send_otp_email(self, to_email: str, otp: str) -> bool:\n",
    "        \"\"\"Send OTP via email\"\"\"\n",
    "        try:\n",
    "            msg = MIMEMultipart()\n",
    "            msg['From'] = self.username\n",
    "            msg['To'] = to_email\n",
    "            msg['Subject'] = \"Your OTP for Verification\"\n",
    "            \n",
    "            body = f\"Your OTP is: {otp}\\nValid for 5 minutes.\"\n",
    "            msg.attach(MIMEText(body, 'plain'))\n",
    "            \n",
    "            with smtplib.SMTP(self.smtp_server, self.smtp_port) as server:\n",
    "                server.starttls()\n",
    "                server.login(self.username, self.password)\n",
    "                server.send_message(msg)\n",
    "            return True\n",
    "        except Exception as e:\n",
    "            print(f\"Error sending email: {e}\")\n",
    "            return False\n",
    "\n"
   ]
  },
  {
   "cell_type": "code",
   "execution_count": 3,
   "metadata": {},
   "outputs": [],
   "source": [
    "sender_email = os.getenv(\"SENDER_EMAIL\")\n",
    "sender_password = os.getenv(\"SENDER_APP_PASSWORD\")\n",
    "\n",
    "if not sender_email or not sender_password:\n",
    "    raise ValueError(\"Email credentials not found in environment variables\")\n",
    "\n",
    "# SMTP server configuration\n",
    "smtp_server = \"smtp.gmail.com\"\n",
    "smtp_port = 587\n",
    "\n",
    "otp_manager = OTPManager()\n",
    "email_sender = EmailSender(smtp_server, smtp_port, sender_email, sender_password)"
   ]
  },
  {
   "cell_type": "code",
   "execution_count": 12,
   "metadata": {},
   "outputs": [],
   "source": [
    "from langchain_core.tools import tool\n",
    "from pydantic import BaseModel, Field\n",
    "\n",
    "\n",
    "\n",
    "\n",
    "# Note: It's important that every field has type hints. BaseTool is a\n",
    "# Pydantic class and not having type hints can lead to unexpected behavior.\n",
    "\n",
    "class SendOTPInput(BaseModel):\n",
    "    email: str = Field(description=\"Email address to send OTP to\")\n",
    "    \n",
    "    \n",
    "@tool(name_or_callable=\"send_otp\", args_schema=SendOTPInput)\n",
    "def send_otp_tool(email:str):\n",
    "    \"Sends an OTP to the specified email address for verification\"\n",
    "    \n",
    "    \n",
    "    \n",
    "\n",
    "    otp = otp_manager.create_otp(email)\n",
    "    if email_sender.send_otp_email(email, otp):\n",
    "        return f\"OTP sent successfully to {email}\"\n",
    "    return f\"Failed to send OTP to {email}\"\n",
    "\n",
    "\n",
    "\n",
    "class VerifyOTPInput(BaseModel):\n",
    "    email: str = Field(description=\"Email address to verify OTP for\")\n",
    "    otp: str = Field(description=\"OTP to verify\")\n",
    "\n",
    "@tool(name_or_callable=\"verify_otp\", args_schema=VerifyOTPInput)\n",
    "def verify_otp_tool(email:str, otp:str):\n",
    "    \"Verifies the OTP provided by the user\"\n",
    "    \n",
    "    \n",
    "    if otp_manager.verify_otp(email, otp):\n",
    "        return \"OTP verified successfully\"\n",
    "    return \"Invalid or expired OTP\"\n",
    "\n",
    "\n",
    "\n",
    "\n"
   ]
  },
  {
   "cell_type": "code",
   "execution_count": 10,
   "metadata": {},
   "outputs": [
    {
     "data": {
      "text/plain": [
       "'OTP sent successfully to hrisikesh.neogi@gmail.com'"
      ]
     },
     "execution_count": 10,
     "metadata": {},
     "output_type": "execute_result"
    }
   ],
   "source": [
    "send_otp_tool.invoke({\"email\":\"hrisikesh.neogi@gmail.com\"})"
   ]
  },
  {
   "cell_type": "code",
   "execution_count": 13,
   "metadata": {},
   "outputs": [
    {
     "data": {
      "text/plain": [
       "'OTP verified successfully'"
      ]
     },
     "execution_count": 13,
     "metadata": {},
     "output_type": "execute_result"
    }
   ],
   "source": [
    "verify_otp_tool.invoke(\n",
    "    {\"email\":\"hrisikesh.neogi@gmail.com\",\n",
    "     \"otp\":\"664158\"}\n",
    ")"
   ]
  },
  {
   "cell_type": "code",
   "execution_count": 14,
   "metadata": {},
   "outputs": [
    {
     "ename": "ImportError",
     "evalue": "cannot import name 'format_phone_number' from partially initialized module 'src.tools' (most likely due to a circular import) (d:\\real-estate-demo\\src\\tools\\__init__.py)",
     "output_type": "error",
     "traceback": [
      "\u001b[1;31m---------------------------------------------------------------------------\u001b[0m",
      "\u001b[1;31mImportError\u001b[0m                               Traceback (most recent call last)",
      "Cell \u001b[1;32mIn[14], line 1\u001b[0m\n\u001b[1;32m----> 1\u001b[0m \u001b[38;5;28;01mfrom\u001b[39;00m \u001b[38;5;21;01msrc\u001b[39;00m\u001b[38;5;21;01m.\u001b[39;00m\u001b[38;5;21;01mtools\u001b[39;00m \u001b[38;5;28;01mimport\u001b[39;00m generate_lease_agreement_tool\n\u001b[0;32m      4\u001b[0m generate_lease_agreement_tool\u001b[38;5;241m.\u001b[39mschema_json\n",
      "File \u001b[1;32md:\\real-estate-demo\\src\\tools\\__init__.py:12\u001b[0m\n\u001b[0;32m     10\u001b[0m \u001b[38;5;28;01mfrom\u001b[39;00m \u001b[38;5;21;01mfpdf\u001b[39;00m \u001b[38;5;28;01mimport\u001b[39;00m FPDF\n\u001b[0;32m     11\u001b[0m \u001b[38;5;28;01mfrom\u001b[39;00m \u001b[38;5;21;01msrc\u001b[39;00m\u001b[38;5;21;01m.\u001b[39;00m\u001b[38;5;21;01mconstants\u001b[39;00m \u001b[38;5;28;01mimport\u001b[39;00m \u001b[38;5;241m*\u001b[39m\n\u001b[1;32m---> 12\u001b[0m \u001b[38;5;28;01mfrom\u001b[39;00m \u001b[38;5;21;01msrc\u001b[39;00m\u001b[38;5;21;01m.\u001b[39;00m\u001b[38;5;21;01magents\u001b[39;00m\u001b[38;5;21;01m.\u001b[39;00m\u001b[38;5;21;01msql_agent\u001b[39;00m \u001b[38;5;28;01mimport\u001b[39;00m SqlAgent\n\u001b[0;32m     13\u001b[0m \u001b[38;5;28;01mimport\u001b[39;00m \u001b[38;5;21;01mre\u001b[39;00m\n\u001b[0;32m     14\u001b[0m \u001b[38;5;28;01mfrom\u001b[39;00m \u001b[38;5;21;01mpydantic\u001b[39;00m \u001b[38;5;28;01mimport\u001b[39;00m BaseModel, Field\n",
      "File \u001b[1;32md:\\real-estate-demo\\src\\agents\\__init__.py:1\u001b[0m\n\u001b[1;32m----> 1\u001b[0m \u001b[38;5;28;01mfrom\u001b[39;00m \u001b[38;5;21;01msrc\u001b[39;00m\u001b[38;5;21;01m.\u001b[39;00m\u001b[38;5;21;01mtools\u001b[39;00m \u001b[38;5;28;01mimport\u001b[39;00m (format_phone_number, sql_agent_tool,\n\u001b[0;32m      2\u001b[0m                        generate_lease_agreement_tool,\n\u001b[0;32m      3\u001b[0m                        agreement_and_payment_mailer_tool)\n\u001b[0;32m      4\u001b[0m \u001b[38;5;28;01mfrom\u001b[39;00m \u001b[38;5;21;01msrc\u001b[39;00m\u001b[38;5;21;01m.\u001b[39;00m\u001b[38;5;21;01mtools\u001b[39;00m\u001b[38;5;21;01m.\u001b[39;00m\u001b[38;5;21;01motp_tools\u001b[39;00m \u001b[38;5;28;01mimport\u001b[39;00m send_otp_tool, verify_otp_tool\n\u001b[0;32m      6\u001b[0m \u001b[38;5;28;01mfrom\u001b[39;00m \u001b[38;5;21;01msrc\u001b[39;00m\u001b[38;5;21;01m.\u001b[39;00m\u001b[38;5;21;01mtools\u001b[39;00m\u001b[38;5;21;01m.\u001b[39;00m\u001b[38;5;21;01mnew_tools\u001b[39;00m \u001b[38;5;28;01mimport\u001b[39;00m (\n\u001b[0;32m      7\u001b[0m     get_lease_details_tool,\n\u001b[0;32m      8\u001b[0m     verify_tenant_apartment_tool,\n\u001b[1;32m   (...)\u001b[0m\n\u001b[0;32m     13\u001b[0m     \n\u001b[0;32m     14\u001b[0m )\n",
      "\u001b[1;31mImportError\u001b[0m: cannot import name 'format_phone_number' from partially initialized module 'src.tools' (most likely due to a circular import) (d:\\real-estate-demo\\src\\tools\\__init__.py)"
     ]
    },
    {
     "ename": "",
     "evalue": "",
     "output_type": "error",
     "traceback": [
      "\u001b[1;31mThe Kernel crashed while executing code in the current cell or a previous cell. \n",
      "\u001b[1;31mPlease review the code in the cell(s) to identify a possible cause of the failure. \n",
      "\u001b[1;31mClick <a href='https://aka.ms/vscodeJupyterKernelCrash'>here</a> for more info. \n",
      "\u001b[1;31mView Jupyter <a href='command:jupyter.viewOutput'>log</a> for further details."
     ]
    }
   ],
   "source": []
  },
  {
   "cell_type": "code",
   "execution_count": null,
   "metadata": {},
   "outputs": [],
   "source": []
  }
 ],
 "metadata": {
  "kernelspec": {
   "display_name": "env",
   "language": "python",
   "name": "python3"
  },
  "language_info": {
   "codemirror_mode": {
    "name": "ipython",
    "version": 3
   },
   "file_extension": ".py",
   "mimetype": "text/x-python",
   "name": "python",
   "nbconvert_exporter": "python",
   "pygments_lexer": "ipython3",
   "version": "3.10.16"
  }
 },
 "nbformat": 4,
 "nbformat_minor": 2
}
