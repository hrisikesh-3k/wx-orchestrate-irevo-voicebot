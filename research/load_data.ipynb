{
 "cells": [
  {
   "cell_type": "code",
   "execution_count": 1,
   "metadata": {},
   "outputs": [],
   "source": [
    "import os \n",
    "from dotenv import load_dotenv\n",
    "os.chdir(\"..\")"
   ]
  },
  {
   "cell_type": "code",
   "execution_count": 3,
   "metadata": {},
   "outputs": [],
   "source": [
    "import pandas as pd\n",
    "import sqlite3\n",
    "\n",
    "db_name = \"lease_real_estate.db\"\n",
    "def load_csv_to_db(csv_file_path, table_name):\n",
    "    \"\"\"\n",
    "    Loads data from a CSV file into an SQLite database.\n",
    "\n",
    "    Parameters:\n",
    "    csv_file_path (str): Path to the CSV file.\n",
    "    table_name (str): Name of the table where data will be dumped.\n",
    "\n",
    "    Returns:\n",
    "    None\n",
    "    \"\"\"\n",
    "    # Connect to the SQLite database (creates the file if it doesn't exist)\n",
    "    conn = sqlite3.connect(db_name)  #updated with new data\n",
    "    \n",
    "    try:\n",
    "        # Read the CSV file into a Pandas DataFrame\n",
    "        df = pd.read_csv(csv_file_path)\n",
    "        \n",
    "\n",
    "        # Dump the DataFrame into the SQLite table\n",
    "        df.to_sql(table_name, conn, if_exists='replace', index=False)\n",
    "\n",
    "        print(f\"Data successfully loaded into table '{table_name}' in '{db_name}'.\")\n",
    "    except Exception as e:\n",
    "        print(f\"An error occurred: {e}\")\n",
    "    finally:\n",
    "        # Close the connection\n",
    "        conn.close()\n",
    "\n",
    "# Example usage\n",
    "# load_csv_to_db('data.csv', 'properties')"
   ]
  },
  {
   "cell_type": "code",
   "execution_count": 4,
   "metadata": {},
   "outputs": [
    {
     "name": "stdout",
     "output_type": "stream",
     "text": [
      "Data successfully loaded into table 'lease_details' in 'lease_real_estate.db'.\n",
      "Data loaded for lease_details\n",
      "Data successfully loaded into table 'rent_status' in 'lease_real_estate.db'.\n",
      "Data loaded for rent_status\n"
     ]
    }
   ],
   "source": [
    "for file in os.listdir(\"updated_data\"):\n",
    "    table_name = file.split(\".\")[0].lower()\n",
    "    load_csv_to_db(f\"updated_data/{file}\", table_name)\n",
    "    print(f\"Data loaded for {table_name}\")\n",
    "    "
   ]
  },
  {
   "cell_type": "code",
   "execution_count": 5,
   "metadata": {},
   "outputs": [
    {
     "name": "stdout",
     "output_type": "stream",
     "text": [
      "Data successfully loaded into table 'rent_table' in 'real_estate.db'.\n",
      "Rent data uploaded\n",
      "Data successfully loaded into table 'lease_table' in 'real_estate.db'.\n",
      "lease data uploaded\n"
     ]
    }
   ],
   "source": [
    "\n",
    "load_csv_to_db(rent_data, \"rent_table\")\n",
    "print(\"Rent data uploaded\")\n",
    "load_csv_to_db(lease_data,\"lease_table\")\n",
    "print(\"lease data uploaded\")"
   ]
  },
  {
   "cell_type": "code",
   "execution_count": 27,
   "metadata": {},
   "outputs": [
    {
     "data": {
      "text/plain": [
       "Index(['tenant_name', 'apartment_number', 'lease_start_date', 'lease_end_date',\n",
       "       'payment_date', 'payment_status', 'delay_days', 'tenant_email',\n",
       "       'zip_code'],\n",
       "      dtype='object')"
      ]
     },
     "execution_count": 27,
     "metadata": {},
     "output_type": "execute_result"
    }
   ],
   "source": [
    "pd.read_csv(rent_data).columns"
   ]
  },
  {
   "cell_type": "code",
   "execution_count": 26,
   "metadata": {},
   "outputs": [
    {
     "data": {
      "text/plain": [
       "Index(['tenant_name', 'apartment_number', 'email', 'tenant_phone', 'tenant_id',\n",
       "       'rental_amount', 'payment_date', 'due_date', 'status', 'city',\n",
       "       'apartment_building', 'lease_start_date', 'lease_end_date',\n",
       "       'lease_terms_conditions', 'renewal_terms_conditions', 'owner_name',\n",
       "       'owner_email', 'owner_contact_number'],\n",
       "      dtype='object')"
      ]
     },
     "execution_count": 26,
     "metadata": {},
     "output_type": "execute_result"
    }
   ],
   "source": [
    "pd.read_csv(lease_data).columns"
   ]
  },
  {
   "cell_type": "code",
   "execution_count": 7,
   "metadata": {},
   "outputs": [
    {
     "name": "stdout",
     "output_type": "stream",
     "text": [
      "[('lease_details',), ('rent_status',)]\n"
     ]
    }
   ],
   "source": [
    "conn = sqlite3.connect(db_name)\n",
    "\n",
    "cursor = conn.cursor()\n",
    "cursor.execute(\"SELECT name FROM sqlite_master WHERE type='table';\")\n",
    "tables = cursor.fetchall()\n",
    "print(tables)\n",
    "# conn.execute(\"SELECT * FROM \").fetchall()"
   ]
  },
  {
   "cell_type": "code",
   "execution_count": 5,
   "metadata": {},
   "outputs": [],
   "source": [
    "import sqlite3\n",
    "from typing import Optional, Dict\n",
    "\n",
    "def get_tenant_rent_status(tenant_name: str, apartment_number: str) -> Optional[Dict]:\n",
    "    \"\"\"\n",
    "    Fetch current rent status for a tenant based on name and apartment number.\n",
    "    \n",
    "    Args:\n",
    "        tenant_name (str): Name of the tenant\n",
    "        apartment_number (str): Apartment number\n",
    "    \n",
    "    Returns:\n",
    "        Optional[Dict]: Dictionary containing tenant details and rent status if found,\n",
    "                       None if tenant not found\n",
    "    \"\"\"\n",
    "    try:\n",
    "        # Establish database connection\n",
    "        conn = sqlite3.connect(db_name)  # Replace with your database name\n",
    "        cursor = conn.cursor()\n",
    "        \n",
    "        # SQL query to join lease_details and rent_status tables\n",
    "        query = \"\"\"\n",
    "        SELECT \n",
    "            l.Tenant_Name,\n",
    "            l.Apartment_Number,\n",
    "            l.Current_Rent,\n",
    "            l.Lease_Status,\n",
    "            l.Lease_End_Date,\n",
    "            r.Status as Rent_Status\n",
    "        FROM lease_details l\n",
    "        LEFT JOIN rent_status r ON l.Tenant_ID = r.Tenant_ID\n",
    "        WHERE LOWER(l.Tenant_Name) = LOWER(?) \n",
    "        AND l.Apartment_Number = ?\n",
    "        \"\"\"\n",
    "        \n",
    "        # Execute query with parameters\n",
    "        cursor.execute(query, (tenant_name, apartment_number))\n",
    "        result = cursor.fetchone()\n",
    "        \n",
    "        if result:\n",
    "            return {\n",
    "                'tenant_name': result[0],\n",
    "                'apartment_number': result[1],\n",
    "                'current_rent': result[2],\n",
    "                'lease_status': result[3],\n",
    "                'lease_end_date': result[4],\n",
    "                'rent_status': result[5]\n",
    "            }\n",
    "        return None\n",
    "        \n",
    "    except sqlite3.Error as e:\n",
    "        print(f\"Database error: {e}\")\n",
    "        raise\n",
    "        \n",
    "    finally:\n",
    "        if conn:\n",
    "            conn.close()"
   ]
  },
  {
   "cell_type": "code",
   "execution_count": 6,
   "metadata": {},
   "outputs": [
    {
     "data": {
      "text/plain": [
       "{'tenant_name': 'Ishita Agarwal',\n",
       " 'apartment_number': '10A',\n",
       " 'current_rent': 1500,\n",
       " 'lease_status': 'Pending',\n",
       " 'lease_end_date': '31-01-2025',\n",
       " 'rent_status': 'Pending'}"
      ]
     },
     "execution_count": 6,
     "metadata": {},
     "output_type": "execute_result"
    }
   ],
   "source": [
    "get_tenant_rent_status(tenant_name=\"Ishita Agarwal\", apartment_number=\"10A\")"
   ]
  },
  {
   "cell_type": "code",
   "execution_count": null,
   "metadata": {},
   "outputs": [],
   "source": []
  }
 ],
 "metadata": {
  "kernelspec": {
   "display_name": "env",
   "language": "python",
   "name": "python3"
  },
  "language_info": {
   "codemirror_mode": {
    "name": "ipython",
    "version": 3
   },
   "file_extension": ".py",
   "mimetype": "text/x-python",
   "name": "python",
   "nbconvert_exporter": "python",
   "pygments_lexer": "ipython3",
   "version": "3.10.16"
  }
 },
 "nbformat": 4,
 "nbformat_minor": 2
}
